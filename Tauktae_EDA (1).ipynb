{
 "cells": [
  {
   "cell_type": "markdown",
   "id": "b8d4beca",
   "metadata": {},
   "source": [
    "# 🌪️ Tauktae Cyclone Dataset – Exploratory Data Analysis (EDA)"
   ]
  },
  {
   "cell_type": "code",
   "execution_count": null,
   "id": "d74923da",
   "metadata": {},
   "outputs": [],
   "source": [
    "\n",
    "# Install required libraries if not already installed (run in terminal if needed)\n",
    "# pip install pandas matplotlib seaborn scikit-learn folium ipykernel\n",
    "\n",
    "import pandas as pd\n",
    "import matplotlib.pyplot as plt\n",
    "import seaborn as sns\n",
    "from sklearn.ensemble import RandomForestClassifier\n",
    "import folium\n"
   ]
  },
  {
   "cell_type": "code",
   "execution_count": null,
   "id": "8ee91696",
   "metadata": {},
   "outputs": [],
   "source": [
    "\n",
    "# Load dataset (make sure Tauktae.csv is in the same folder as this notebook)\n",
    "df = pd.read_csv(\"Tauktae.csv\")\n",
    "\n",
    "print(\"✅ Dataset Loaded Successfully!\")\n",
    "print(df.head())\n",
    "\n",
    "# Convert Date column if exists\n",
    "if \"Date\" in df.columns:\n",
    "    df[\"Date\"] = pd.to_datetime(df[\"Date\"], errors=\"coerce\")\n",
    "    df = df.sort_values(\"Date\")\n"
   ]
  },
  {
   "cell_type": "code",
   "execution_count": null,
   "id": "6d7f86f6",
   "metadata": {},
   "outputs": [],
   "source": [
    "\n",
    "# Summary Statistics\n",
    "print(\"\\nDataset Info:\")\n",
    "print(df.info())\n",
    "print(\"\\nSummary Statistics:\")\n",
    "print(df.describe())\n",
    "\n",
    "# Missing Values Heatmap\n",
    "plt.figure(figsize=(6,4))\n",
    "sns.heatmap(df.isnull(), cbar=False, cmap=\"viridis\")\n",
    "plt.title(\"Missing Values Heatmap\")\n",
    "plt.show()\n"
   ]
  },
  {
   "cell_type": "code",
   "execution_count": null,
   "id": "5b3060cb",
   "metadata": {},
   "outputs": [],
   "source": [
    "\n",
    "# Correlation Heatmap\n",
    "plt.figure(figsize=(8,6))\n",
    "sns.heatmap(df.corr(numeric_only=True), annot=True, cmap=\"coolwarm\", fmt=\".2f\")\n",
    "plt.title(\"Correlation Heatmap of Features\")\n",
    "plt.show()\n"
   ]
  },
  {
   "cell_type": "code",
   "execution_count": null,
   "id": "aa6c25ef",
   "metadata": {},
   "outputs": [],
   "source": [
    "\n",
    "# Distributions\n",
    "df.hist(figsize=(12,8), bins=15, color=\"skyblue\", edgecolor=\"black\")\n",
    "plt.suptitle(\"Feature Distributions\", fontsize=16)\n",
    "plt.show()\n",
    "\n",
    "# Boxplots\n",
    "plt.figure(figsize=(12,6))\n",
    "sns.boxplot(data=df, palette=\"Set2\")\n",
    "plt.title(\"Boxplots of Features\")\n",
    "plt.show()\n"
   ]
  },
  {
   "cell_type": "code",
   "execution_count": null,
   "id": "903dba93",
   "metadata": {},
   "outputs": [],
   "source": [
    "\n",
    "# Pairplot\n",
    "sns.pairplot(df.select_dtypes(include=[\"number\"]), diag_kind=\"kde\", corner=True)\n",
    "plt.suptitle(\"Pairplot of Features\", y=1.02)\n",
    "plt.show()\n"
   ]
  },
  {
   "cell_type": "code",
   "execution_count": null,
   "id": "b8209fc3",
   "metadata": {},
   "outputs": [],
   "source": [
    "\n",
    "# Time-Series Plots\n",
    "if \"Date\" in df.columns:\n",
    "    if \"WindSpeed\" in df.columns:\n",
    "        plt.figure(figsize=(12,6))\n",
    "        plt.plot(df[\"Date\"], df[\"WindSpeed\"], marker=\"o\", color=\"blue\")\n",
    "        plt.title(\"Tauktae Cyclone - Wind Speed Over Time\")\n",
    "        plt.xlabel(\"Date\")\n",
    "        plt.ylabel(\"Wind Speed\")\n",
    "        plt.grid(True)\n",
    "        plt.show()\n",
    "\n",
    "    if \"Pressure\" in df.columns:\n",
    "        plt.figure(figsize=(12,6))\n",
    "        plt.plot(df[\"Date\"], df[\"Pressure\"], marker=\"s\", color=\"red\")\n",
    "        plt.title(\"Tauktae Cyclone - Pressure Over Time\")\n",
    "        plt.xlabel(\"Date\")\n",
    "        plt.ylabel(\"Pressure\")\n",
    "        plt.grid(True)\n",
    "        plt.show()\n"
   ]
  },
  {
   "cell_type": "code",
   "execution_count": null,
   "id": "90c4ed0c",
   "metadata": {},
   "outputs": [],
   "source": [
    "\n",
    "# Geographical Path of Cyclone\n",
    "if \"Latitude\" in df.columns and \"Longitude\" in df.columns:\n",
    "    # Static Path Plot\n",
    "    plt.figure(figsize=(8,8))\n",
    "    plt.plot(df[\"Longitude\"], df[\"Latitude\"], marker=\"o\", color=\"darkorange\", linewidth=2)\n",
    "    plt.scatter(df[\"Longitude\"], df[\"Latitude\"],\n",
    "                c=df[\"WindSpeed\"] if \"WindSpeed\" in df.columns else \"blue\",\n",
    "                cmap=\"coolwarm\", s=50, alpha=0.7, edgecolor=\"k\")\n",
    "    plt.title(\"Cyclone Tauktae Path (Lat vs Lon)\")\n",
    "    plt.xlabel(\"Longitude\")\n",
    "    plt.ylabel(\"Latitude\")\n",
    "    plt.grid(True)\n",
    "    plt.colorbar(label=\"Wind Speed\" if \"WindSpeed\" in df.columns else \"Data Points\")\n",
    "    plt.show()\n",
    "\n",
    "    # Interactive Map with Folium\n",
    "    m = folium.Map(location=[df[\"Latitude\"].mean(), df[\"Longitude\"].mean()], zoom_start=5, tiles=\"cartodbpositron\")\n",
    "    path = list(zip(df[\"Latitude\"], df[\"Longitude\"]))\n",
    "    folium.PolyLine(path, color=\"red\", weight=3).add_to(m)\n",
    "\n",
    "    for i, row in df.iterrows():\n",
    "        folium.CircleMarker(\n",
    "            location=(row[\"Latitude\"], row[\"Longitude\"]),\n",
    "            radius=5,\n",
    "            color=\"blue\",\n",
    "            fill=True,\n",
    "            popup=f\"WindSpeed: {row.get('WindSpeed', 'N/A')}, Pressure: {row.get('Pressure', 'N/A')}\"\n",
    "        ).add_to(m)\n",
    "\n",
    "    m.save(\"Tauktae_Cyclone_Path.html\")\n",
    "    print(\"🌍 Interactive cyclone map saved as 'Tauktae_Cyclone_Path.html'\")\n"
   ]
  }
 ],
 "metadata": {},
 "nbformat": 4,
 "nbformat_minor": 5
}