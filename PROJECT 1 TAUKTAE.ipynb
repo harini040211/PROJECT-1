{
  "metadata": {
    "kernelspec": {
      "name": "python",
      "display_name": "Python (Pyodide)",
      "language": "python"
    },
    "language_info": {
      "codemirror_mode": {
        "name": "python",
        "version": 3
      },
      "file_extension": ".py",
      "mimetype": "text/x-python",
      "name": "python",
      "nbconvert_exporter": "python",
      "pygments_lexer": "ipython3",
      "version": "3.8"
    }
  },
  "nbformat_minor": 5,
  "nbformat": 4,
  "cells": [
    {
      "id": "a2783187-2aac-4976-afdd-9057afc313f5",
      "cell_type": "code",
      "source": "#PROJECT TITLE: TAUKTAE CYCLONE DETECTION\n#PROBLEM STATEMENT: Cyclone Tauktae, which struck the western coast of India in May 2021, caused massive destruction, loss of lives, and economic damage,here is a strong need for a data-driven system that can clean, analyze, and visualize cyclone data to assist in early warning systems, disaster management, and preparedness.\n#DESCRIPTION: This project focuses on the detection and analysis of Cyclone Tauktae using meteorological datasets. The system processes raw cyclone data (containing parameters such as date, time, wind speed, pressure, latitude, and longitude), cleans it for inconsistencies, and then applies data analysis techniques to identify cyclone trends.",
      "metadata": {
        "trusted": true
      },
      "outputs": [],
      "execution_count": null
    },
    {
      "id": "c39d7011-a11f-463c-9d3c-56c1efc49a37",
      "cell_type": "code",
      "source": "import pandas as pd\n",
      "metadata": {
        "trusted": true
      },
      "outputs": [],
      "execution_count": 1
    },
    {
      "id": "607d2969-e166-48bc-9c8d-9a76ecf1bb94",
      "cell_type": "code",
      "source": "df = pd.read_csv(\"Tauktae.csv\")\ndf.head()",
      "metadata": {
        "trusted": true
      },
      "outputs": [
        {
          "execution_count": 2,
          "output_type": "execute_result",
          "data": {
            "text/plain": "     Date   Time                             Type  Wind  Pressure\n0  May 19  06:00                Low Pressure Area    55       NaN\n1  May 18  18:00                Low Pressure Area    95       NaN\n2  May 18  06:00                Low Pressure Area   150       NaN\n3  May 17  18:00  Extremely Severe Cyclonic Storm   205     942.0\n4  May 17  12:00  Extremely Severe Cyclonic Storm   205     949.0",
            "text/html": "<div>\n<style scoped>\n    .dataframe tbody tr th:only-of-type {\n        vertical-align: middle;\n    }\n\n    .dataframe tbody tr th {\n        vertical-align: top;\n    }\n\n    .dataframe thead th {\n        text-align: right;\n    }\n</style>\n<table border=\"1\" class=\"dataframe\">\n  <thead>\n    <tr style=\"text-align: right;\">\n      <th></th>\n      <th>Date</th>\n      <th>Time</th>\n      <th>Type</th>\n      <th>Wind</th>\n      <th>Pressure</th>\n    </tr>\n  </thead>\n  <tbody>\n    <tr>\n      <th>0</th>\n      <td>May 19</td>\n      <td>06:00</td>\n      <td>Low Pressure Area</td>\n      <td>55</td>\n      <td>NaN</td>\n    </tr>\n    <tr>\n      <th>1</th>\n      <td>May 18</td>\n      <td>18:00</td>\n      <td>Low Pressure Area</td>\n      <td>95</td>\n      <td>NaN</td>\n    </tr>\n    <tr>\n      <th>2</th>\n      <td>May 18</td>\n      <td>06:00</td>\n      <td>Low Pressure Area</td>\n      <td>150</td>\n      <td>NaN</td>\n    </tr>\n    <tr>\n      <th>3</th>\n      <td>May 17</td>\n      <td>18:00</td>\n      <td>Extremely Severe Cyclonic Storm</td>\n      <td>205</td>\n      <td>942.0</td>\n    </tr>\n    <tr>\n      <th>4</th>\n      <td>May 17</td>\n      <td>12:00</td>\n      <td>Extremely Severe Cyclonic Storm</td>\n      <td>205</td>\n      <td>949.0</td>\n    </tr>\n  </tbody>\n</table>\n</div>"
          },
          "metadata": {}
        }
      ],
      "execution_count": 2
    },
    {
      "id": "63bc0b3e-9212-46dc-905c-b20fb04647bb",
      "cell_type": "code",
      "source": "df[\"Datetime\"] = pd.to_datetime(df[\"Date\"] + \" \" + df[\"Time\"], errors=\"coerce\")\ndf.drop([\"Date\", \"Time\"], axis=1, inplace=True)",
      "metadata": {
        "trusted": true
      },
      "outputs": [],
      "execution_count": null
    },
    {
      "id": "2367fde6-00e5-440b-9c52-6f9159b98673",
      "cell_type": "code",
      "source": "df[\"Pressure\"] = df[\"Pressure\"].fillna(method=\"ffill\")",
      "metadata": {
        "trusted": true
      },
      "outputs": [],
      "execution_count": null
    },
    {
      "id": "d9980c9d-591d-4629-9037-c624e88e0d68",
      "cell_type": "code",
      "source": "df = df.sort_values(by=\"Datetime\").reset_index(drop=True)",
      "metadata": {
        "trusted": true
      },
      "outputs": [],
      "execution_count": null
    },
    {
      "id": "25d7b04a-ff4b-4bce-8f1c-b62ef83c166c",
      "cell_type": "code",
      "source": "df.head()",
      "metadata": {
        "trusted": true
      },
      "outputs": [
        {
          "execution_count": 3,
          "output_type": "execute_result",
          "data": {
            "text/plain": "     Date   Time                             Type  Wind  Pressure\n0  May 19  06:00                Low Pressure Area    55       NaN\n1  May 18  18:00                Low Pressure Area    95       NaN\n2  May 18  06:00                Low Pressure Area   150       NaN\n3  May 17  18:00  Extremely Severe Cyclonic Storm   205     942.0\n4  May 17  12:00  Extremely Severe Cyclonic Storm   205     949.0",
            "text/html": "<div>\n<style scoped>\n    .dataframe tbody tr th:only-of-type {\n        vertical-align: middle;\n    }\n\n    .dataframe tbody tr th {\n        vertical-align: top;\n    }\n\n    .dataframe thead th {\n        text-align: right;\n    }\n</style>\n<table border=\"1\" class=\"dataframe\">\n  <thead>\n    <tr style=\"text-align: right;\">\n      <th></th>\n      <th>Date</th>\n      <th>Time</th>\n      <th>Type</th>\n      <th>Wind</th>\n      <th>Pressure</th>\n    </tr>\n  </thead>\n  <tbody>\n    <tr>\n      <th>0</th>\n      <td>May 19</td>\n      <td>06:00</td>\n      <td>Low Pressure Area</td>\n      <td>55</td>\n      <td>NaN</td>\n    </tr>\n    <tr>\n      <th>1</th>\n      <td>May 18</td>\n      <td>18:00</td>\n      <td>Low Pressure Area</td>\n      <td>95</td>\n      <td>NaN</td>\n    </tr>\n    <tr>\n      <th>2</th>\n      <td>May 18</td>\n      <td>06:00</td>\n      <td>Low Pressure Area</td>\n      <td>150</td>\n      <td>NaN</td>\n    </tr>\n    <tr>\n      <th>3</th>\n      <td>May 17</td>\n      <td>18:00</td>\n      <td>Extremely Severe Cyclonic Storm</td>\n      <td>205</td>\n      <td>942.0</td>\n    </tr>\n    <tr>\n      <th>4</th>\n      <td>May 17</td>\n      <td>12:00</td>\n      <td>Extremely Severe Cyclonic Storm</td>\n      <td>205</td>\n      <td>949.0</td>\n    </tr>\n  </tbody>\n</table>\n</div>"
          },
          "metadata": {}
        }
      ],
      "execution_count": 3
    },
    {
      "id": "be591d1d-b442-4478-ba69-03597a9d64ca",
      "cell_type": "code",
      "source": "df.to_csv(\"Tauktae_cleaned.csv\", index=False)\nprint(\"✅ Cleaned dataset saved as Tauktae_cleaned.csv\")",
      "metadata": {
        "trusted": true
      },
      "outputs": [
        {
          "name": "stdout",
          "output_type": "stream",
          "text": "✅ Cleaned dataset saved as Tauktae_cleaned.csv\n"
        }
      ],
      "execution_count": 4
    },
    {
      "id": "e175daa2-816e-4bfe-b03c-5b5bc896db78",
      "cell_type": "code",
      "source": "",
      "metadata": {
        "trusted": true
      },
      "outputs": [],
      "execution_count": null
    }
  ]
}