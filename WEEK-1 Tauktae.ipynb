{
  "metadata": {
    "kernelspec": {
      "name": "python",
      "display_name": "Python (Pyodide)",
      "language": "python"
    },
    "language_info": {
      "codemirror_mode": {
        "name": "python",
        "version": 3
      },
      "file_extension": ".py",
      "mimetype": "text/x-python",
      "name": "python",
      "nbconvert_exporter": "python",
      "pygments_lexer": "ipython3",
      "version": "3.8"
    }
  },
  "nbformat_minor": 5,
  "nbformat": 4,
  "cells": [
    {
      "id": "9e63ac42-c66e-4679-9fdb-e64b10837dd9",
      "cell_type": "code",
      "source": "import pandas as pd",
      "metadata": {
        "trusted": true
      },
      "outputs": [],
      "execution_count": 1
    },
    {
      "id": "64c3bd39-b919-4ce6-8965-c4e8280f8b02",
      "cell_type": "code",
      "source": "df = pd.read_csv(\"Tauktae.csv\")\ndf.head()",
      "metadata": {
        "trusted": true
      },
      "outputs": [
        {
          "execution_count": 2,
          "output_type": "execute_result",
          "data": {
            "text/plain": "     Date   Time                             Type  Wind  Pressure\n0  May 19  06:00                Low Pressure Area    55       NaN\n1  May 18  18:00                Low Pressure Area    95       NaN\n2  May 18  06:00                Low Pressure Area   150       NaN\n3  May 17  18:00  Extremely Severe Cyclonic Storm   205     942.0\n4  May 17  12:00  Extremely Severe Cyclonic Storm   205     949.0",
            "text/html": "<div>\n<style scoped>\n    .dataframe tbody tr th:only-of-type {\n        vertical-align: middle;\n    }\n\n    .dataframe tbody tr th {\n        vertical-align: top;\n    }\n\n    .dataframe thead th {\n        text-align: right;\n    }\n</style>\n<table border=\"1\" class=\"dataframe\">\n  <thead>\n    <tr style=\"text-align: right;\">\n      <th></th>\n      <th>Date</th>\n      <th>Time</th>\n      <th>Type</th>\n      <th>Wind</th>\n      <th>Pressure</th>\n    </tr>\n  </thead>\n  <tbody>\n    <tr>\n      <th>0</th>\n      <td>May 19</td>\n      <td>06:00</td>\n      <td>Low Pressure Area</td>\n      <td>55</td>\n      <td>NaN</td>\n    </tr>\n    <tr>\n      <th>1</th>\n      <td>May 18</td>\n      <td>18:00</td>\n      <td>Low Pressure Area</td>\n      <td>95</td>\n      <td>NaN</td>\n    </tr>\n    <tr>\n      <th>2</th>\n      <td>May 18</td>\n      <td>06:00</td>\n      <td>Low Pressure Area</td>\n      <td>150</td>\n      <td>NaN</td>\n    </tr>\n    <tr>\n      <th>3</th>\n      <td>May 17</td>\n      <td>18:00</td>\n      <td>Extremely Severe Cyclonic Storm</td>\n      <td>205</td>\n      <td>942.0</td>\n    </tr>\n    <tr>\n      <th>4</th>\n      <td>May 17</td>\n      <td>12:00</td>\n      <td>Extremely Severe Cyclonic Storm</td>\n      <td>205</td>\n      <td>949.0</td>\n    </tr>\n  </tbody>\n</table>\n</div>"
          },
          "metadata": {}
        }
      ],
      "execution_count": 2
    },
    {
      "id": "d5994a67-7ee6-45ef-994a-aae943226c30",
      "cell_type": "code",
      "source": "df[\"Datetime\"] = pd.to_datetime(df[\"Date\"] + \" \" + df[\"Time\"], errors=\"coerce\")\ndf.drop([\"Date\", \"Time\"], axis=1, inplace=True)",
      "metadata": {
        "trusted": true
      },
      "outputs": [],
      "execution_count": null
    },
    {
      "id": "9a5d4924-d800-4ed6-a304-88a118122c81",
      "cell_type": "code",
      "source": "df[\"Pressure\"] = df[\"Pressure\"].fillna(method=\"ffill\")\n",
      "metadata": {
        "trusted": true
      },
      "outputs": [],
      "execution_count": null
    },
    {
      "id": "fd5dd4a6-aff8-4a65-947b-c19073c7c9af",
      "cell_type": "code",
      "source": "df = df.sort_values(by=\"Datetime\").reset_index(drop=True)",
      "metadata": {
        "trusted": true
      },
      "outputs": [],
      "execution_count": null
    },
    {
      "id": "8b0dbd27-5e77-4d60-903d-c0079c9c9aad",
      "cell_type": "code",
      "source": "df.head()",
      "metadata": {
        "trusted": true
      },
      "outputs": [
        {
          "execution_count": 3,
          "output_type": "execute_result",
          "data": {
            "text/plain": "     Date   Time                             Type  Wind  Pressure\n0  May 19  06:00                Low Pressure Area    55       NaN\n1  May 18  18:00                Low Pressure Area    95       NaN\n2  May 18  06:00                Low Pressure Area   150       NaN\n3  May 17  18:00  Extremely Severe Cyclonic Storm   205     942.0\n4  May 17  12:00  Extremely Severe Cyclonic Storm   205     949.0",
            "text/html": "<div>\n<style scoped>\n    .dataframe tbody tr th:only-of-type {\n        vertical-align: middle;\n    }\n\n    .dataframe tbody tr th {\n        vertical-align: top;\n    }\n\n    .dataframe thead th {\n        text-align: right;\n    }\n</style>\n<table border=\"1\" class=\"dataframe\">\n  <thead>\n    <tr style=\"text-align: right;\">\n      <th></th>\n      <th>Date</th>\n      <th>Time</th>\n      <th>Type</th>\n      <th>Wind</th>\n      <th>Pressure</th>\n    </tr>\n  </thead>\n  <tbody>\n    <tr>\n      <th>0</th>\n      <td>May 19</td>\n      <td>06:00</td>\n      <td>Low Pressure Area</td>\n      <td>55</td>\n      <td>NaN</td>\n    </tr>\n    <tr>\n      <th>1</th>\n      <td>May 18</td>\n      <td>18:00</td>\n      <td>Low Pressure Area</td>\n      <td>95</td>\n      <td>NaN</td>\n    </tr>\n    <tr>\n      <th>2</th>\n      <td>May 18</td>\n      <td>06:00</td>\n      <td>Low Pressure Area</td>\n      <td>150</td>\n      <td>NaN</td>\n    </tr>\n    <tr>\n      <th>3</th>\n      <td>May 17</td>\n      <td>18:00</td>\n      <td>Extremely Severe Cyclonic Storm</td>\n      <td>205</td>\n      <td>942.0</td>\n    </tr>\n    <tr>\n      <th>4</th>\n      <td>May 17</td>\n      <td>12:00</td>\n      <td>Extremely Severe Cyclonic Storm</td>\n      <td>205</td>\n      <td>949.0</td>\n    </tr>\n  </tbody>\n</table>\n</div>"
          },
          "metadata": {}
        }
      ],
      "execution_count": 3
    },
    {
      "id": "8c87661a-544c-4498-b376-5f6e38048f68",
      "cell_type": "code",
      "source": "df.to_csv(\"Tauktae_cleaned.csv\", index=False)\nprint(\"✅ Cleaned dataset saved as Tauktae_cleaned.csv\")",
      "metadata": {
        "trusted": true
      },
      "outputs": [
        {
          "name": "stdout",
          "output_type": "stream",
          "text": "✅ Cleaned dataset saved as Tauktae_cleaned.csv\n"
        }
      ],
      "execution_count": 4
    },
    {
      "id": "ec787fcb-281d-484b-8111-f6959a28f651",
      "cell_type": "code",
      "source": "",
      "metadata": {
        "trusted": true
      },
      "outputs": [],
      "execution_count": null
    }
  ]
}